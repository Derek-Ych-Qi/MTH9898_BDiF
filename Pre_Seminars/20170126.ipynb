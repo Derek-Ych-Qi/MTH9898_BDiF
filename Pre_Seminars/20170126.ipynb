{
 "cells": [
  {
   "cell_type": "markdown",
   "metadata": {},
   "source": [
    "# Big Data in Finance\n",
    "Jan 26 2017  \n",
    "Math for Big Data  \n",
    "\n",
    "## Complexity\n",
    "knowable & predictable\n",
    "\n",
    "real-time cleanning and accessibility of the data! -> plumbing program\n",
    "\n",
    "Big Data is big in  \n",
    "Volume, Velocity, Value, Variety and Varecity.\n",
    "\n",
    "apophenia! seeing things in the data that don't exist...\n",
    "\n"
   ]
  }
 ],
 "metadata": {
  "anaconda-cloud": {},
  "kernelspec": {
   "display_name": "Python [conda root]",
   "language": "python",
   "name": "conda-root-py"
  },
  "language_info": {
   "codemirror_mode": {
    "name": "ipython",
    "version": 3
   },
   "file_extension": ".py",
   "mimetype": "text/x-python",
   "name": "python",
   "nbconvert_exporter": "python",
   "pygments_lexer": "ipython3",
   "version": "3.5.2"
  }
 },
 "nbformat": 4,
 "nbformat_minor": 1
}
