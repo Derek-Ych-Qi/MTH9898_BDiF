{
 "cells": [
  {
   "cell_type": "markdown",
   "metadata": {},
   "source": [
    "# Big Data in Finance\n",
    "Pre-Seminar 1  \n",
    "Jan-23-2017  "
   ]
  },
  {
   "cell_type": "markdown",
   "metadata": {},
   "source": [
    "Cryptic currencies: BTC and Alt-coins\n",
    "- BTC <- Block chain\n",
    "- Who did what and when\n",
    "- Who owns what and why\n",
    "\n",
    "BTC vs. Gold vs. Fiat money\n",
    "- \"Gold\" days - deflation (technology dividend)\n",
    "- Fiat money - seinorage\n"
   ]
  },
  {
   "cell_type": "markdown",
   "metadata": {},
   "source": [
    "BTC Trade:\n",
    "- Capitalization\n",
    "- Liquidity\n",
    "\n",
    "134 Excanges!  \n",
    "coinbase.com  \n",
    "- First step: where and what you want to trade.\n",
    "- cryptical vs fiat : taxes!\n",
    "\n",
    "Orderbook  \n",
    "details of market data  \n",
    "Cleaning and normalizing might be troublesome"
   ]
  },
  {
   "cell_type": "markdown",
   "metadata": {},
   "source": [
    "## Programming in GPUs in CUDA\n",
    "\n",
    "### CUDA thrust\n",
    "- template library on GPU programming\n",
    "- based on STL\n",
    "- download and include, that's it, no need to link etc.\n",
    "\n",
    "### functionalities\n",
    "- similar with STL\n",
    "- control from CPU and parallel from GPU, host and devices\n",
    "\n",
    "### Example: Functor\n",
    "Apply a function iteratively over all members  \n",
    "(step 3 in Monte Carlo)\n",
    "\n",
    "### Monte Carlo in 4 steps\n",
    "- generate random numbers\n",
    "- transforming into inputs for the model\n",
    "- fit into model and calculate\n",
    "- aggregation\n",
    "\n",
    "#### Estimating Pi by throwing random darts\n"
   ]
  }
 ],
 "metadata": {
  "anaconda-cloud": {},
  "kernelspec": {
   "display_name": "Python [conda root]",
   "language": "python",
   "name": "conda-root-py"
  },
  "language_info": {
   "codemirror_mode": {
    "name": "ipython",
    "version": 3
   },
   "file_extension": ".py",
   "mimetype": "text/x-python",
   "name": "python",
   "nbconvert_exporter": "python",
   "pygments_lexer": "ipython3",
   "version": "3.5.2"
  }
 },
 "nbformat": 4,
 "nbformat_minor": 1
}
