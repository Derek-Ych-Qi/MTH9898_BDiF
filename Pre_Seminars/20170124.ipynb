{
 "cells": [
  {
   "cell_type": "markdown",
   "metadata": {},
   "source": [
    "# Big Data in Finance\n",
    "Jan 24 2017\n",
    "Big Data Algorithms\n",
    "\n",
    "\"Good enough\" answers vs. perfect answer    \n",
    "Speed accuracy trade-off \n",
    "\n",
    "Winning more vs. winning big\n",
    "\n",
    "Algo acceleration vs. Moore's law acceleration  \n",
    "- algo has contributed more (parallel algos)\n",
    "\n",
    "Amdahl's law: How fast you can get with parallel (fixed problem size)\n",
    "$$S(n) = \\frac{1}{a + (1-a)/n}$$\n",
    "where $a$ is the part that you could not get paralleled.\n",
    "\n",
    "This $a$ is decisive if parallel computing is the accelerator.\n",
    "\n",
    "Gustafson-Barsis's Law (larger problems tackled with more source)\n",
    "\n",
    "Algo is serial in nature? or serial by convention because people are counting on Moore's law?\n",
    "\n",
    "Approximation and Heuristics (how to get around complex computatinos)\n",
    "\n",
    "P vs NP\n",
    "\n",
    "## Big O notation\n",
    "- computing, communication, memory-taking\n",
    "- order-level comparision\n",
    "\n",
    "MD5 hash  \n",
    "https://en.wikipedia.org/wiki/MD5#Pseudocode\n",
    "SHA256 (Secure Hash Algo 2)\n",
    "https://en.wikipedia.org/wiki/SHA-2\n",
    "Entropy\n",
    "\n",
    "\n"
   ]
  }
 ],
 "metadata": {
  "anaconda-cloud": {},
  "kernelspec": {
   "display_name": "Python [conda root]",
   "language": "python",
   "name": "conda-root-py"
  },
  "language_info": {
   "codemirror_mode": {
    "name": "ipython",
    "version": 3
   },
   "file_extension": ".py",
   "mimetype": "text/x-python",
   "name": "python",
   "nbconvert_exporter": "python",
   "pygments_lexer": "ipython3",
   "version": "3.5.2"
  }
 },
 "nbformat": 4,
 "nbformat_minor": 1
}
